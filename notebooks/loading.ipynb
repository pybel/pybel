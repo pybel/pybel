{
 "cells": [
  {
   "cell_type": "markdown",
   "metadata": {},
   "source": [
    "# Loading BEL Documents\n",
    "\n",
    "We'll always start by importing `pybel`."
   ]
  },
  {
   "cell_type": "code",
   "execution_count": 1,
   "metadata": {},
   "outputs": [],
   "source": [
    "import pybel"
   ]
  },
  {
   "cell_type": "markdown",
   "metadata": {},
   "source": [
    "First, we'll download and parse a BEL document from the Human Brain Pharmacome project describing the 2018 paper from Boland *et al.*, \"Promoting the clearance of neurotoxic proteins in neurodegenerative disorders of ageing\"."
   ]
  },
  {
   "cell_type": "code",
   "execution_count": 2,
   "metadata": {},
   "outputs": [],
   "source": [
    "url = 'https://raw.githubusercontent.com/pharmacome/knowledge/master/hbp_knowledge/tau/boland2018.bel'"
   ]
  },
  {
   "cell_type": "markdown",
   "metadata": {},
   "source": [
    "A BEL document can be downloaded and parsed from a URL using `pybel.from_url`. Keep in mind, the first time we load a given BEL document, various BEL resources that are referenced in the document must be cached. Be patient - this can take up to ten minutes."
   ]
  },
  {
   "cell_type": "code",
   "execution_count": 3,
   "metadata": {},
   "outputs": [],
   "source": [
    "boland_2018_graph = pybel.from_url(url)"
   ]
  },
  {
   "cell_type": "markdown",
   "metadata": {},
   "source": [
    "The graph is loaded into an instance of the `pybel.BELGraph` class. We can use the `pybel.BELGraph.summarize()` to print a brief summary of the graph."
   ]
  },
  {
   "cell_type": "code",
   "execution_count": 4,
   "metadata": {},
   "outputs": [
    {
     "name": "stdout",
     "output_type": "stream",
     "text": [
      "Promoting the clearance of neurotoxic proteins in neurodegenerative disorders of ageing v1.0.0\n",
      "Number of Nodes: 192\n",
      "Number of Edges: 366\n",
      "Network Density: 9.98E-03\n",
      "Number of Components: 3\n",
      "Number of Warnings: 0\n"
     ]
    }
   ],
   "source": [
    "boland_2018_graph.summarize()"
   ]
  },
  {
   "cell_type": "markdown",
   "metadata": {},
   "source": [
    "Next, we'll open and parse a BEL document from the Human Brain Pharmacome project describing the 2018 paper from Cabellero *et al.*, \"Interplay of pathogenic forms of human tau with different autophagic pathways\". Keep in mind that this local file path (probably) won't be valid on other computers."
   ]
  },
  {
   "cell_type": "code",
   "execution_count": 5,
   "metadata": {},
   "outputs": [],
   "source": [
    "path = '~/dev/knowledge/hbp_knowledge/tau/caballero2018.bel'"
   ]
  },
  {
   "cell_type": "markdown",
   "metadata": {},
   "source": [
    "A BEL document can also be parsed from a path to a file using `pybel.from_path`. Like before, we will summarize the graph after parsing it."
   ]
  },
  {
   "cell_type": "code",
   "execution_count": 6,
   "metadata": {},
   "outputs": [
    {
     "name": "stdout",
     "output_type": "stream",
     "text": [
      "Interplay of pathogenic forms of human tau with different autophagic pathways v1.0.1\n",
      "Number of Nodes: 60\n",
      "Number of Edges: 141\n",
      "Network Density: 3.98E-02\n",
      "Number of Components: 1\n",
      "Number of Warnings: 0\n"
     ]
    }
   ],
   "source": [
    "cabellero_2018_graph = pybel.from_path(path)\n",
    "\n",
    "cabellero_2018_graph.summarize()"
   ]
  },
  {
   "cell_type": "markdown",
   "metadata": {},
   "source": [
    "We can combine two or more graphs in a list using `pybel.union`."
   ]
  },
  {
   "cell_type": "code",
   "execution_count": 7,
   "metadata": {},
   "outputs": [
    {
     "name": "stdout",
     "output_type": "stream",
     "text": [
      "Promoting the clearance of neurotoxic proteins in neurodegenerative disorders of ageing v1.0.0\n",
      "Number of Nodes: 241\n",
      "Number of Edges: 507\n",
      "Network Density: 8.77E-03\n",
      "Number of Components: 2\n",
      "Number of Warnings: 0\n"
     ]
    }
   ],
   "source": [
    "combined_graph = pybel.union([boland_2018_graph, cabellero_2018_graph])\n",
    "\n",
    "combined_graph.summarize()"
   ]
  },
  {
   "cell_type": "markdown",
   "metadata": {},
   "source": [
    "Note that there are some overlapping nodes, but no overlapping edges."
   ]
  }
 ],
 "metadata": {
  "kernelspec": {
   "display_name": "Python 3",
   "language": "python",
   "name": "python3"
  },
  "language_info": {
   "codemirror_mode": {
    "name": "ipython",
    "version": 3
   },
   "file_extension": ".py",
   "mimetype": "text/x-python",
   "name": "python",
   "nbconvert_exporter": "python",
   "pygments_lexer": "ipython3",
   "version": "3.7.2"
  }
 },
 "nbformat": 4,
 "nbformat_minor": 2
}
